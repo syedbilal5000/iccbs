{
 "cells": [
  {
   "cell_type": "markdown",
   "metadata": {},
   "source": [
    "# Python Basics (2019-07-25)\n",
    "\n",
    "## Content\n",
    "* Comments\n",
    "* Data Types\n",
    "* Simple Arithmetics\n",
    "* Strings\n",
    "\n",
    "\n",
    "## Comments\n",
    "\n",
    "Comments provide important documentation for your code."
   ]
  },
  {
   "cell_type": "code",
   "execution_count": null,
   "metadata": {},
   "outputs": [],
   "source": [
    "# this is a single line comment\n",
    "\n",
    "\"\"\"\n",
    "this is a \n",
    "multi line\n",
    "comment\n",
    "\"\"\""
   ]
  },
  {
   "cell_type": "markdown",
   "metadata": {},
   "source": [
    "Data Types\n",
    "----------\n",
    "\n",
    "(see https://docs.python.org/3/tutorial/introduction.html#numbers)\n",
    "\n",
    "Python supports the most common data types: integer, float, character, string, boolean. Based on the provided input, it selects the most simple data type. "
   ]
  },
  {
   "cell_type": "code",
   "execution_count": 1,
   "metadata": {},
   "outputs": [
    {
     "name": "stdout",
     "output_type": "stream",
     "text": [
      "4 <class 'int'>\n",
      "4 <class 'int'>\n",
      "2.0 <class 'float'>\n"
     ]
    }
   ],
   "source": [
    "a = 4\n",
    "print(a, type(a))\n",
    "b = 2.0\n",
    "print(a, type(a))\n",
    "c = 3.1\n",
    "print(b, type(b))"
   ]
  },
  {
   "cell_type": "markdown",
   "metadata": {},
   "source": [
    "What will be the data type of a+b? "
   ]
  },
  {
   "cell_type": "code",
   "execution_count": 2,
   "metadata": {},
   "outputs": [
    {
     "name": "stdout",
     "output_type": "stream",
     "text": [
      "6.0 <class 'float'>\n"
     ]
    }
   ],
   "source": [
    "print(a+b, type(a+b))"
   ]
  },
  {
   "cell_type": "markdown",
   "metadata": {},
   "source": [
    "It's a float. But why? If it was an integer, information would get lost. Python chooses the simplest data type that preserves all information. However, this can be tricky if you don't pay attention...\n",
    "\n",
    "**Important**: Always be aware what data type Python uses to prevent loss of information."
   ]
  },
  {
   "cell_type": "code",
   "execution_count": 3,
   "metadata": {},
   "outputs": [
    {
     "name": "stdout",
     "output_type": "stream",
     "text": [
      "1.5\n",
      "1.75\n"
     ]
    }
   ],
   "source": [
    "print(3/2)   # integer divided by integer\n",
    "print(3.5/2) # float divided by integer"
   ]
  },
  {
   "cell_type": "markdown",
   "metadata": {},
   "source": [
    "Other common data types:"
   ]
  },
  {
   "cell_type": "code",
   "execution_count": 4,
   "metadata": {},
   "outputs": [
    {
     "name": "stdout",
     "output_type": "stream",
     "text": [
      "d <class 'str'>\n",
      "e <class 'str'>\n",
      "f <class 'bool'>\n"
     ]
    }
   ],
   "source": [
    "d = 'g'\n",
    "print('d', type(d))\n",
    "e = 'stuff'\n",
    "print('e', type(e))\n",
    "f = True\n",
    "print('f', type(f))"
   ]
  },
  {
   "cell_type": "markdown",
   "metadata": {},
   "source": [
    "## Simple Arithmetics\n"
   ]
  },
  {
   "cell_type": "code",
   "execution_count": 5,
   "metadata": {},
   "outputs": [
    {
     "name": "stdout",
     "output_type": "stream",
     "text": [
      "4+2   6.0\n",
      "4-2   2.0\n",
      "4*2   8.0\n",
      "5/2   2.5\n",
      "4%2   0.0\n",
      "5%2   1\n",
      "4**2  16\n",
      "5//2  2\n"
     ]
    }
   ],
   "source": [
    "# a = 4, b = 2\n",
    "print('4+2  ', a+b)  # addition\n",
    "print('4-2  ', a-b)  # subtraction\n",
    "print('4*2  ', a*b)  # multiplication\n",
    "print('5/2  ', 5/2)  # division\n",
    "print('4%2  ', a%b)  # modulus\n",
    "print('5%2  ', 5%2)  # modulus\n",
    "print('4**2 ', a**2) # power\n",
    "print('5//2 ', 5//2) # floor division"
   ]
  },
  {
   "cell_type": "markdown",
   "metadata": {},
   "source": [
    "Again, be aware of the data types:"
   ]
  },
  {
   "cell_type": "code",
   "execution_count": 6,
   "metadata": {},
   "outputs": [],
   "source": [
    "#print a+d  # results in a TypeError"
   ]
  },
  {
   "cell_type": "markdown",
   "metadata": {},
   "source": [
    "## Strings\n",
    "\n",
    "(see https://docs.python.org/3/tutorial/introduction.html#strings)"
   ]
  },
  {
   "cell_type": "code",
   "execution_count": 7,
   "metadata": {},
   "outputs": [
    {
     "name": "stdout",
     "output_type": "stream",
     "text": [
      "abcdef\n",
      "0\n",
      "8\n",
      "-1\n",
      "lots of space\n",
      "lots of underscores\n",
      "string with underscores\n",
      "['list', 'of', 'things', 'like', 'in', 'a', 'csv', 'file']\n",
      "one\n",
      "word\n",
      "per\n",
      "line\n",
      "False\n",
      "True\n"
     ]
    }
   ],
   "source": [
    "print('abc' + \"def\")                                  # concatenate strings (' and \" can both be used, but not mixed)\n",
    "print('abc'.find('a'))                                # index of a\n",
    "print('thereisabunnyhidinginhere'.find('bunny'))      # index where the bunny hides\n",
    "print('thereisabunnyhidinginhere'.find('wolf'))       # return -1 if failed\n",
    "print('    lots of space   '.strip())                 # strip blanks\n",
    "print('____lots of underscores____'.strip('_'))       # strip underscores\n",
    "#print('____lots of __ underscores____'.strip('_'))       # strip underscores\n",
    "print('string_with_underscores'.replace('_', ' '))    # replace underscores\n",
    "print('list,of,things,like,in,a,csv,file'.split(',')) # split in to list\n",
    "print('one\\nword\\nper\\nline')                         # use '\\n' to represent a line break\n",
    "print('123abc'.isalpha())                             # check if string consists of letters only\n",
    "print('123'.isdigit())                                # check if string consists of numbers only"
   ]
  },
  {
   "cell_type": "markdown",
   "metadata": {},
   "source": [
    "## Lists\n",
    "\n",
    "(see https://docs.python.org/3/tutorial/introduction.html#lists)"
   ]
  },
  {
   "cell_type": "code",
   "execution_count": 8,
   "metadata": {},
   "outputs": [
    {
     "name": "stdout",
     "output_type": "stream",
     "text": [
      "[1, 2, 3, 4, 5]\n",
      "[1, 2, 3, 4, 5]\n",
      "[1, 2, 3, 4, 5]\n",
      "[2, 3, 4]\n"
     ]
    }
   ],
   "source": [
    "numbers = [1, 2, 3, 4, 5]\n",
    "print(numbers)                            # showing list content\n",
    "# slicing\n",
    "print(numbers[:])                         # showing all, start:end\n",
    "print(numbers[0:5])                       # showing all, start:end\n",
    "print(numbers[1:4])                       # showing second to fourth"
   ]
  },
  {
   "cell_type": "markdown",
   "metadata": {},
   "source": [
    "## Functions\n"
   ]
  },
  {
   "cell_type": "code",
   "execution_count": 9,
   "metadata": {},
   "outputs": [],
   "source": [
    "def functionName():\n",
    "    return 'Hello'"
   ]
  },
  {
   "cell_type": "code",
   "execution_count": 10,
   "metadata": {},
   "outputs": [
    {
     "data": {
      "text/plain": [
       "'Hello'"
      ]
     },
     "execution_count": 10,
     "metadata": {},
     "output_type": "execute_result"
    }
   ],
   "source": [
    "functionName()"
   ]
  },
  {
   "cell_type": "code",
   "execution_count": 11,
   "metadata": {},
   "outputs": [],
   "source": [
    "def sum(a, b):\n",
    "    return a + b"
   ]
  },
  {
   "cell_type": "code",
   "execution_count": 12,
   "metadata": {},
   "outputs": [
    {
     "data": {
      "text/plain": [
       "3"
      ]
     },
     "execution_count": 12,
     "metadata": {},
     "output_type": "execute_result"
    }
   ],
   "source": [
    "sum(1, 2)"
   ]
  }
 ],
 "metadata": {
  "kernelspec": {
   "display_name": "Python 3",
   "language": "python",
   "name": "python3"
  },
  "language_info": {
   "codemirror_mode": {
    "name": "ipython",
    "version": 3
   },
   "file_extension": ".py",
   "mimetype": "text/x-python",
   "name": "python",
   "nbconvert_exporter": "python",
   "pygments_lexer": "ipython3",
   "version": "3.7.1"
  }
 },
 "nbformat": 4,
 "nbformat_minor": 1
}
